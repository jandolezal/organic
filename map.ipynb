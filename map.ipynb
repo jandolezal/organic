{
 "cells": [
  {
   "cell_type": "code",
   "execution_count": 1,
   "id": "9736fa7d",
   "metadata": {},
   "outputs": [],
   "source": [
    "import csv\n",
    "import json\n",
    "import os\n",
    "\n",
    "import requests"
   ]
  },
  {
   "cell_type": "code",
   "execution_count": 2,
   "id": "aebf362b",
   "metadata": {},
   "outputs": [],
   "source": [
    "# Create the chart/map with post request\n",
    "\n",
    "def create_chart(\n",
    "    title,\n",
    "    url: str = 'https://api.datawrapper.de/v3/charts',\n",
    "    map_type: str = 'd3-maps-choropleth',\n",
    "    token: str = os.getenv('DATAWRAPPER_ACCESS_TOKEN'),\n",
    "    ):\n",
    "    \n",
    "    headers = {\n",
    "        'Authorization': 'Bearer ' + token,\n",
    "        'Content-Type': 'application/json',\n",
    "        }\n",
    "\n",
    "    data = {\n",
    "        \"title\": title,\n",
    "        \"type\": map_type,\n",
    "    }\n",
    "\n",
    "    r = requests.post(url, headers=headers, json=data)\n",
    "\n",
    "    return r\n",
    "\n",
    "r = create_chart('Organic farms in Europe')"
   ]
  },
  {
   "cell_type": "code",
   "execution_count": 3,
   "id": "95c44a53",
   "metadata": {},
   "outputs": [],
   "source": [
    "def get_chart_id(r: requests.Response):\n",
    "    return json.loads(r.text)['publicId']\n",
    "\n",
    "chart_id = get_chart_id(r)"
   ]
  },
  {
   "cell_type": "code",
   "execution_count": 4,
   "id": "99a5cea9",
   "metadata": {},
   "outputs": [
    {
     "name": "stdout",
     "output_type": "stream",
     "text": [
      "https://app.datawrapper.de/map/kBxZS/visualize\n"
     ]
    }
   ],
   "source": [
    "def get_visualize_url(r):\n",
    "    return f'https://app.datawrapper.de/map/{chart_id}/visualize'\n",
    "\n",
    "print(get_visualize_url(r))"
   ]
  },
  {
   "cell_type": "code",
   "execution_count": 5,
   "id": "f178c3ac",
   "metadata": {},
   "outputs": [
    {
     "data": {
      "text/plain": [
       "'geo,organic_share\\nAT,25.33\\nBE,6.85\\nBG,2.34\\nCH,11.18\\nCY,4.98\\nCZ,15.19\\nDE,7.75\\nDK,11.09\\nEE,22.33\\nES,9.66\\nFI,13.48\\nFR,7.72\\nGB,2.62\\nGR,10.26\\nHR,7.19\\nHU,5.71\\nIE,1.63\\nIS,0.37\\nIT,15.16\\nLT,8.14\\nLU,4.42\\nLV,14.79\\nMK,0.29\\nMT,0.47\\nNL,3.75\\nNO,4.62\\nPL,3.49\\nRO,2.86\\nRS,0.61\\nSE,20.43\\nSI,10.35\\nSK,10.31\\nTR,1.46\\n'"
      ]
     },
     "execution_count": 5,
     "metadata": {},
     "output_type": "execute_result"
    }
   ],
   "source": [
    "def get_csv_data(filename: str):\n",
    "    with open('organic_share.csv') as f:\n",
    "        data = f.read()\n",
    "    return data\n",
    "\n",
    "data = get_csv_data('organic_share.csv')\n",
    "data"
   ]
  },
  {
   "cell_type": "code",
   "execution_count": 6,
   "id": "986a5d82",
   "metadata": {},
   "outputs": [],
   "source": [
    "# Upload data the data with put request\n",
    "def put_data(\n",
    "    chart_id: str,\n",
    "    data: str,\n",
    "    url = f'https://api.datawrapper.de/v3/charts/{chart_id}/data',\n",
    "    token: str = os.getenv('DATAWRAPPER_ACCESS_TOKEN'),\n",
    "    ):\n",
    "    headers = {\n",
    "        'Authorization': 'Bearer ' + token,\n",
    "        'Content-Type': 'text/csv',\n",
    "        }\n",
    "\n",
    "    r = requests.put(url, headers=headers, data=data)\n",
    "    return r\n",
    "\n",
    "r = put_data(chart_id, data)"
   ]
  },
  {
   "cell_type": "code",
   "execution_count": 7,
   "id": "0a399608",
   "metadata": {},
   "outputs": [],
   "source": [
    "# Select correct basemap, country codes and values to plot\n",
    "def patch_chart_data(\n",
    "    chart_id: str,\n",
    "    data: str,\n",
    "    url = f'https://api.datawrapper.de/v3/charts/{chart_id}',\n",
    "    token: str = os.getenv('DATAWRAPPER_ACCESS_TOKEN'),\n",
    "    ):\n",
    "    headers = {\n",
    "        'Authorization': 'Bearer ' + token,\n",
    "        'Content-Type': 'application/json',\n",
    "        }\n",
    "\n",
    "    r = requests.patch(url, headers=headers, json=data)\n",
    "    return r\n",
    "\n",
    "data = {\n",
    "    \"metadata\": {\n",
    "      \"axes\": {\n",
    "          \"keys\": \"geo\",\n",
    "          \"values\": \"organic_share\",\n",
    "          \"labels\": \"organic_share\",\n",
    "      },\n",
    "      \"visualize\": {\n",
    "          \"basemap\": \"europe\",\n",
    "          \"map-key-attr\": \"ISO_A2\"\n",
    "      }\n",
    "    }\n",
    "  }\n",
    "\n",
    "r = patch_chart_data(chart_id, data)"
   ]
  },
  {
   "cell_type": "code",
   "execution_count": 8,
   "id": "9b0e99ef",
   "metadata": {},
   "outputs": [],
   "source": [
    "# Before updating the looks check current settings\n",
    "# Get data about the chart\n",
    "def get_chart_metadata_asdict(\n",
    "    chart_id: str,\n",
    "    url = f'https://api.datawrapper.de/v3/charts/{chart_id}',\n",
    "    token: str = os.getenv('DATAWRAPPER_ACCESS_TOKEN'), \n",
    "    ):\n",
    "    url = f'https://api.datawrapper.de/v3/charts/{chart_id}'\n",
    "\n",
    "    headers = {\n",
    "        'Authorization': 'Bearer ' + token,\n",
    "        'Content-Type': 'application/json',\n",
    "    }\n",
    "\n",
    "    r = requests.get(url, headers=headers)\n",
    "    return json.loads(r.text)\n",
    "    \n",
    "\n",
    "metadata = get_chart_metadata_asdict(chart_id)"
   ]
  },
  {
   "cell_type": "code",
   "execution_count": 9,
   "id": "b3d74926",
   "metadata": {},
   "outputs": [],
   "source": [
    "# Patch labels: make them visible and use column organic_share with 0.0% format\n",
    "# Patch colorscheme and tooltips\n",
    "data = {\n",
    "    \"metadata\": {\n",
    "        \"visualize\": {\n",
    "          \"colorscale\": {\n",
    "              'colors': [{'color': '#fefaca', 'position': 0},\n",
    "                 {'color': '#008b15', 'position': 1}],\n",
    "          },\n",
    "            \"map-label-format\": \"0.0%\",\n",
    "            \"labels\": {\n",
    "                \"enabled\": True,\n",
    "                \"type\": \"column\"\n",
    "            },\n",
    "        \"legend\": {\n",
    "            \"labelFormat\": \"0.0%\"\n",
    "        },\n",
    "        \"tooltip\": {\n",
    "            \"body\": '{{ organic_share }}%',\n",
    "            'title': '%REGION_NAME%',\n",
    "            'enabled': True,\n",
    "        }\n",
    "        },\n",
    "        \"describe\": {\n",
    "            \"source-name\": \"Eurostat\",\n",
    "            \"source-url\": \"https://ec.europa.eu/eurostat/statistics-explained/index.php?title=Organic_farming_statistics\",\n",
    "            \"intro\": \"Share of organic farms area in total utilised agricultural area in 2019\"\n",
    "        }\n",
    "    }\n",
    "    \n",
    "  }\n",
    "\n",
    "r = patch_chart_data(chart_id, data)"
   ]
  },
  {
   "cell_type": "code",
   "execution_count": 10,
   "id": "eeea69a2",
   "metadata": {},
   "outputs": [],
   "source": [
    "# Publish the chart\n",
    "def publish_chart(\n",
    "    chart_id: str,\n",
    "    url =  f'https://api.datawrapper.de/v3/charts/{chart_id}/publish',\n",
    "    ):\n",
    "\n",
    "    headers = {\n",
    "        'Authorization': 'Bearer ' + os.getenv('DATAWRAPPER_ACCESS_TOKEN'),\n",
    "    }\n",
    "\n",
    "    r = requests.post(url, headers=headers)\n",
    "    return r\n",
    "\n",
    "r = publish_chart(chart_id)"
   ]
  },
  {
   "cell_type": "code",
   "execution_count": 11,
   "id": "f010634b",
   "metadata": {},
   "outputs": [
    {
     "name": "stdout",
     "output_type": "stream",
     "text": [
      "https://www.datawrapper.de/_/kBxZS/\n"
     ]
    }
   ],
   "source": [
    "def get_chart_url(chart_id):\n",
    "    return f'https://www.datawrapper.de/_/{chart_id}/'\n",
    "\n",
    "print(get_chart_url(chart_id))"
   ]
  },
  {
   "cell_type": "code",
   "execution_count": 12,
   "id": "9772ff3d",
   "metadata": {},
   "outputs": [
    {
     "data": {
      "text/plain": [
       "<Response [200]>"
      ]
     },
     "execution_count": 12,
     "metadata": {},
     "output_type": "execute_result"
    }
   ],
   "source": [
    "def chart_to_png(\n",
    "    chart_id: str,\n",
    "    params: dict,\n",
    "    output: str,\n",
    "    url: str =  f'https://api.datawrapper.de/v3/charts/{chart_id}/export/png',\n",
    "    ):\n",
    "    \n",
    "    headers = {\n",
    "        'Authorization': 'Bearer ' + os.getenv('DATAWRAPPER_ACCESS_TOKEN'),\n",
    "        'Accept': '*/*',\n",
    "    }\n",
    "    \n",
    "    r = requests.get(url, headers=headers, params=params)\n",
    "    \n",
    "    with open(output, \"wb\") as f:\n",
    "        f.write(r.content)\n",
    "    \n",
    "    return r\n",
    "\n",
    "params = {\"unit\":\"px\",\"mode\":\"rgb\",\"plain\":\"false\",\"scale\":\"1\",\"zoom\":\"1\",\"download\":\"false\",\"fullVector\":\"false\",\"ligatures\":\"true\",\"borderWidth\": 20, \"transparent\":\"false\",\"logo\":\"auto\"}\n",
    "\n",
    "chart_to_png(chart_id, params=params, output='map.png')\n"
   ]
  },
  {
   "cell_type": "code",
   "execution_count": null,
   "id": "e7a3ab41",
   "metadata": {},
   "outputs": [],
   "source": []
  },
  {
   "cell_type": "markdown",
   "id": "e1f22bbf",
   "metadata": {},
   "source": [
    "<iframe title=\"Organic farms in Europe\" aria-label=\"Map\" id=\"datawrapper-chart-gxcYi\" src=\"https://datawrapper.dwcdn.net/gxcYi/1/\" scrolling=\"no\" frameborder=\"0\" style=\"width: 0; min-width: 100% !important; border: none;\" height=\"undefined\"></iframe><script type=\"text/javascript\">!function(){\"use strict\";window.addEventListener(\"message\",(function(e){if(void 0!==e.data[\"datawrapper-height\"]){var t=document.querySelectorAll(\"iframe\");for(var a in e.data[\"datawrapper-height\"])for(var r=0;r<t.length;r++){if(t[r].contentWindow===e.source)t[r].style.height=e.data[\"datawrapper-height\"][a]+\"px\"}}}))}();\n",
    "</script>"
   ]
  },
  {
   "cell_type": "markdown",
   "id": "393891e4",
   "metadata": {},
   "source": [
    "<iframe title=\"Organic farms in Europe\" aria-label=\"Map\" id=\"datawrapper-chart-gxcYi\" src=\"https://datawrapper.dwcdn.net/gxcYi/1/\" scrolling=\"no\" frameborder=\"0\" style=\"width: 0; min-width: 100% !important; border: none;\" height=\"undefined\"></iframe><script type=\"text/javascript\">!function(){\"use strict\";window.addEventListener(\"message\",(function(e){if(void 0!==e.data[\"datawrapper-height\"]){var t=document.querySelectorAll(\"iframe\");for(var a in e.data[\"datawrapper-height\"])for(var r=0;r<t.length;r++){if(t[r].contentWindow===e.source)t[r].style.height=e.data[\"datawrapper-height\"][a]+\"px\"}}}))}();\n",
    "</script>"
   ]
  }
 ],
 "metadata": {
  "kernelspec": {
   "display_name": "Python 3 (ipykernel)",
   "language": "python",
   "name": "python3"
  },
  "language_info": {
   "codemirror_mode": {
    "name": "ipython",
    "version": 3
   },
   "file_extension": ".py",
   "mimetype": "text/x-python",
   "name": "python",
   "nbconvert_exporter": "python",
   "pygments_lexer": "ipython3",
   "version": "3.9.6"
  }
 },
 "nbformat": 4,
 "nbformat_minor": 5
}
